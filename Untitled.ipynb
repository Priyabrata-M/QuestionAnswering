{
 "cells": [
  {
   "cell_type": "code",
   "execution_count": 1,
   "metadata": {},
   "outputs": [],
   "source": [
    "from bs4 import BeautifulSoup"
   ]
  },
  {
   "cell_type": "code",
   "execution_count": 2,
   "metadata": {
    "collapsed": true
   },
   "outputs": [],
   "source": [
    "import requests"
   ]
  },
  {
   "cell_type": "code",
   "execution_count": 3,
   "metadata": {
    "collapsed": true
   },
   "outputs": [],
   "source": [
    "r = requests.get('https://www.ranker.com/list/list-of-common-diseases-most-common-illnesses/diseases-and-medications-info')"
   ]
  },
  {
   "cell_type": "code",
   "execution_count": 4,
   "metadata": {},
   "outputs": [],
   "source": [
    "soup = BeautifulSoup(r.text, 'html.parser')"
   ]
  },
  {
   "cell_type": "code",
   "execution_count": 5,
   "metadata": {
    "collapsed": true
   },
   "outputs": [],
   "source": [
    "results = soup.find_all('a',attrs = {\"class\": \"listItem__title listItem__title--link black\"} )"
   ]
  },
  {
   "cell_type": "code",
   "execution_count": 6,
   "metadata": {},
   "outputs": [
    {
     "data": {
      "text/plain": [
       "46"
      ]
     },
     "execution_count": 6,
     "metadata": {},
     "output_type": "execute_result"
    }
   ],
   "source": [
    "len(results)"
   ]
  },
  {
   "cell_type": "code",
   "execution_count": 7,
   "metadata": {},
   "outputs": [
    {
     "data": {
      "text/plain": [
       "<a class=\"listItem__title listItem__title--link black\" href=\"//www.ranker.com/review/allergy/436237?ref=node_name&amp;pos=2&amp;a=0&amp;ltype=n&amp;l=282216&amp;g=2\" itemprop=\"url\" rel=\"follow\">Allergy</a>"
      ]
     },
     "execution_count": 7,
     "metadata": {},
     "output_type": "execute_result"
    }
   ],
   "source": [
    "results[1]"
   ]
  },
  {
   "cell_type": "code",
   "execution_count": 8,
   "metadata": {},
   "outputs": [
    {
     "data": {
      "text/plain": [
       "46"
      ]
     },
     "execution_count": 8,
     "metadata": {},
     "output_type": "execute_result"
    }
   ],
   "source": [
    "len(results)"
   ]
  },
  {
   "cell_type": "code",
   "execution_count": 15,
   "metadata": {},
   "outputs": [
    {
     "name": "stdout",
     "output_type": "stream",
     "text": [
      "42\n",
      " Diabetes mellitus, commonly referred to as diabetes, is a group of metabolic diseases in which there are high blood sugar levels over a prolonged period. Symptoms of high blood sugar include frequent urination, increased thirst, and increased hunger. If left untreated, diabetes can cause many complications. Acute complications include diabetic ketoacidosis and nonketotic hyperosmolar coma. Serious long-term complications include cardiovascular disease, stroke,...\n",
      "43\n",
      " Irritant diaper dermatitis, also known as \"diaper dermatitis\" and \"napkin dermatitis\" and commonly known as diaper rash or nappy rash, is a generic term applied to skin rashes in the diaper area that are caused by various skin disorders and/or irritants. Generic rash or irritant diaper dermatitis is characterized by joined patches of erythema and scaling mainly seen on the convex surfaces, with the skin folds spared. Diaper dermatitis with ...\n",
      "44\n",
      " Diarrhea or diarrhoea is the condition of having at least three loose or liquid bowel movements each day. It often lasts for a few days and can result in dehydration due to fluid loss. Signs of dehydration often begin with loss of the normal stretchiness of the skin and changes in personality. This can progress to decreased urination, loss of skin color, a fast heart rate, and a decrease in responsiveness as it becomes more severe. Loose but non watery stools ...\n",
      "45\n",
      " Diverticulitis is a common digestive disease which involves the formation of pouches within the bowel wall. This process is known as diverticulosis, and typically occurs within the large intestine, or colon, although it can occasionally occur in the small intestine as well. Diverticulitis results when one of these diverticula becomes inflamed. People often have left lower quadrant abdominal pain and tenderness, fever, and an increase white blood cell count. Th...\n"
     ]
    }
   ],
   "source": [
    "i=42\n",
    "while i < 46:\n",
    "    if \"www.ranker.com/review/\" in str(results[i]): \n",
    "        print i\n",
    "        x = str(results[i]).split(\"href=\")\n",
    "        y=[]\n",
    "        #print x[1]\n",
    "        if \"itemprop\" in str(x[1]):\n",
    "            y = x[1].split(\"itemprop\")\n",
    "            #print y\n",
    "        if \"role\" in str(x[1]):\n",
    "            y = x[1].split(\"role\")\n",
    "            #print y\n",
    "        #print y\n",
    "        #print y[0].replace('\"','')\n",
    "        #print 'https:'+y[0].replace('\"','')\n",
    "        r1 = requests.get('https:'+y[0].replace('\"',''))\n",
    "        #print r.text\n",
    "        soup = BeautifulSoup(r1.text, 'html.parser')\n",
    "        results1 = soup.find(\"p\", {\"id\": \"node__wikiText\"})\n",
    "        print results1.text\n",
    "    i = i+1\n",
    "    "
   ]
  },
  {
   "cell_type": "code",
   "execution_count": 109,
   "metadata": {},
   "outputs": [
    {
     "data": {
      "text/plain": [
       "'<a href=\"//www.ranker.com/review/acne-vulgaris/396524?ref=wiki_282216\" role=\"link\" target=\"_blank\"> ...more</a>'"
      ]
     },
     "execution_count": 109,
     "metadata": {},
     "output_type": "execute_result"
    }
   ],
   "source": [
    "str(results[52])"
   ]
  },
  {
   "cell_type": "code",
   "execution_count": 103,
   "metadata": {},
   "outputs": [],
   "source": [
    "x = str(results[51]).split(\"href=\")"
   ]
  },
  {
   "cell_type": "code",
   "execution_count": 104,
   "metadata": {},
   "outputs": [],
   "source": [
    "y = x[1].split(\"itemprop\")"
   ]
  },
  {
   "cell_type": "code",
   "execution_count": 105,
   "metadata": {},
   "outputs": [
    {
     "data": {
      "text/plain": [
       "'//www.ranker.com/review/acne-vulgaris/396524?ref=node_name&amp;pos=1&amp;a=0&amp;ltype=n&amp;l=282216&amp;g=2 '"
      ]
     },
     "execution_count": 105,
     "metadata": {},
     "output_type": "execute_result"
    }
   ],
   "source": [
    "y[0].replace('\"','')"
   ]
  },
  {
   "cell_type": "code",
   "execution_count": 106,
   "metadata": {},
   "outputs": [
    {
     "data": {
      "text/plain": [
       "'https://www.ranker.com/review/acne-vulgaris/396524?ref=node_name&amp;pos=1&amp;a=0&amp;ltype=n&amp;l=282216&amp;g=2 '"
      ]
     },
     "execution_count": 106,
     "metadata": {},
     "output_type": "execute_result"
    }
   ],
   "source": [
    "'https:'+y[0].replace('\"','')"
   ]
  },
  {
   "cell_type": "code",
   "execution_count": 107,
   "metadata": {},
   "outputs": [],
   "source": [
    "r = requests.get('https:'+y[0].replace('\"',''))"
   ]
  },
  {
   "cell_type": "code",
   "execution_count": 87,
   "metadata": {},
   "outputs": [
    {
     "data": {
      "text/plain": [
       "'https://www.ranker.com/review/acne-vulgaris/396524?ref=node_name&amp;pos=1&amp;a=0&amp;ltype=n&amp;l=282216&amp;g=2 '"
      ]
     },
     "execution_count": 87,
     "metadata": {},
     "output_type": "execute_result"
    }
   ],
   "source": [
    "'https:'+y[0].replace('\"','')"
   ]
  },
  {
   "cell_type": "code",
   "execution_count": null,
   "metadata": {
    "collapsed": true
   },
   "outputs": [],
   "source": []
  }
 ],
 "metadata": {
  "kernelspec": {
   "display_name": "Python 2",
   "language": "python",
   "name": "python2"
  },
  "language_info": {
   "codemirror_mode": {
    "name": "ipython",
    "version": 2
   },
   "file_extension": ".py",
   "mimetype": "text/x-python",
   "name": "python",
   "nbconvert_exporter": "python",
   "pygments_lexer": "ipython2",
   "version": "2.7.13"
  }
 },
 "nbformat": 4,
 "nbformat_minor": 2
}
